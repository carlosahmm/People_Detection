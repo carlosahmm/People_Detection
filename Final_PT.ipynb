{
  "nbformat": 4,
  "nbformat_minor": 0,
  "metadata": {
    "colab": {
      "name": "Final_PT.ipynb",
      "provenance": []
    },
    "kernelspec": {
      "name": "python3",
      "display_name": "Python 3"
    },
    "language_info": {
      "name": "python"
    },
    "accelerator": "TPU"
  },
  "cells": [
    {
      "cell_type": "code",
      "metadata": {
        "id": "QWunjBvdY4RC"
      },
      "source": [
        "import cv2"
      ],
      "execution_count": 1,
      "outputs": []
    },
    {
      "cell_type": "code",
      "metadata": {
        "id": "rUirhn5aY4T4"
      },
      "source": [
        "cap = cv2.VideoCapture('/content/example_Trim.mp4')"
      ],
      "execution_count": 2,
      "outputs": []
    },
    {
      "cell_type": "code",
      "metadata": {
        "id": "l-sMOKCVY4W7"
      },
      "source": [
        "pedestrian_cascade = cv2.CascadeClassifier('/content/Final_train.xml')"
      ],
      "execution_count": 3,
      "outputs": []
    },
    {
      "cell_type": "code",
      "metadata": {
        "id": "NGYAOhZr-qbC"
      },
      "source": [
        "while True:\n",
        "    # reads frames from a video\n",
        "    ret, frames = cap.read()\n",
        "    # convert to gray scale of each frames\n",
        "    #gray = cv2.cvtColor(frames, cv2.COLOR_BGR2GRAY)\n",
        "    # Detects pedestrians of different sizes in the input image\n",
        "    pedestrians = pedestrian_cascade.detectMultiScale( frames, 1.1,1)\n",
        "    # To draw a rectangle in each pedestrians\n",
        "    for (x,y,w,h) in pedestrians:\n",
        "        cv2.rectangle(frames,(x,y),(x+w,y+h),(0,255,0),2)\n",
        "        font = cv2.FONT_HERSHEY_DUPLEX\n",
        "        cv2.putText(frames, 'Person', (x + 6, y - 6), font, 0.5, (0, \n",
        "        255, 0), 1)\n",
        "        # Display frames in a window\n",
        "        #cv2.imshow('Pedestrian detection', frames)\n",
        "    # Wait for Enter key to stop\n",
        "    if cv2.waitKey(33) == 13:\n",
        "        break\n",
        "cap.release()"
      ],
      "execution_count": 5,
      "outputs": []
    }
  ]
}